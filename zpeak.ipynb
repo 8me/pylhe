{
 "metadata": {
  "name": "zpeak"
 },
 "nbformat": 3,
 "nbformat_minor": 0,
 "worksheets": [
  {
   "cells": [
    {
     "cell_type": "code",
     "collapsed": false,
     "input": [
      "import pylhe\n",
      "import rootnotes\n",
      "import ROOT\n",
      "import math"
     ],
     "language": "python",
     "metadata": {},
     "outputs": [],
     "prompt_number": 1
    },
    {
     "cell_type": "code",
     "collapsed": false,
     "input": [
      "h = ROOT.TH1F('test','test',150,25,175)"
     ],
     "language": "python",
     "metadata": {},
     "outputs": [],
     "prompt_number": 2
    },
    {
     "cell_type": "code",
     "collapsed": false,
     "input": [
      "def invariant_mass(p1,p2):\n",
      "    return math.sqrt(sum((1 if mu=='e' else -1)*(p1[mu]+p2[mu])**2 for mu in ['e','px','py','pz']))"
     ],
     "language": "python",
     "metadata": {},
     "outputs": [],
     "prompt_number": 3
    },
    {
     "cell_type": "code",
     "collapsed": false,
     "input": [
      "for e in pylhe.readLHE('./PROC_sm_1/Events/run_01/unweighted_events.lhe'):\n",
      "    h.Fill(invariant_mass(e['particles'][-1],e['particles'][-2]),e['eventinfo']['weight'])"
     ],
     "language": "python",
     "metadata": {},
     "outputs": [],
     "prompt_number": 4
    },
    {
     "cell_type": "code",
     "collapsed": false,
     "input": [
      "c = rootnotes.default_canvas()"
     ],
     "language": "python",
     "metadata": {},
     "outputs": [],
     "prompt_number": 5
    },
    {
     "cell_type": "code",
     "collapsed": false,
     "input": [
      "h.SetFillColor(38)\n",
      "h.Draw('bar')"
     ],
     "language": "python",
     "metadata": {},
     "outputs": [],
     "prompt_number": 10
    },
    {
     "cell_type": "code",
     "collapsed": false,
     "input": [
      "c.SetLogy()\n",
      "c"
     ],
     "language": "python",
     "metadata": {},
     "outputs": [
      {
       "output_type": "pyout",
       "png": "[encoded data removed]",
       "prompt_number": 12,
       "text": [
        "<ROOT.TCanvas object (\"icanvas\") at 0x7fa4bf395c10>"
       ]
      }
     ],
     "prompt_number": 12
    },
    {
     "cell_type": "code",
     "collapsed": false,
     "input": [],
     "language": "python",
     "metadata": {},
     "outputs": []
    }
   ],
   "metadata": {}
  }
 ]
}